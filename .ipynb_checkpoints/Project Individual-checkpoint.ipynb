{
 "cells": [
  {
   "cell_type": "markdown",
   "id": "62c6382a-c371-4e06-8541-e5147e323bed",
   "metadata": {},
   "source": [
    "Lucy de Haan\n",
    "72156490\n",
    "\n",
    "# Individual Project Stage"
   ]
  },
  {
   "cell_type": "markdown",
   "id": "9444f0e9-16ec-41a4-af5e-4873099f689b",
   "metadata": {},
   "source": [
    "**(1) Data Description**\n",
    "Provide a full descriptive summary of the dataset, including information such as the number of observations, summary statistics, number of variables, name and type of variables, what the variables mean, any issues you see in the data, any other potential issues related to things you cannot directly see, how the data were collected, etc. Make sure to use bullet point lists or tables to summarize the variables in an easy-to-understand format.\n"
   ]
  },
  {
   "cell_type": "markdown",
   "id": "bd3ffebe-db70-4b24-a15a-b9167f944326",
   "metadata": {},
   "source": [
    "**(2) Questions**\n",
    "\n",
    "I have chosen to address question 2: \"We would like to know which \"kinds\" of players are most likely to contribute a large amount of data so that we can target those players in our recruiting efforts\". \n",
    "\n",
    "My specific question pertains to hours played based on experience and age, and it is as follows:\n",
    "\n",
    "**Are experience and age reliable predictors of hours of minecraft played?**\n",
    "\n",
    "Since we are predicting a numerical value and not a category, we will use linear regression to provide the researchers with a graph of age versus hours played. The linear regression is appropriate for making large conclusions as opposed to predicting a single new data point. As for our third variable, experience, we will colour the points on the graph to disinguish this variable. We will not be using a plane of best fit because these 3D models can be inaccessible and hard to read."
   ]
  },
  {
   "cell_type": "markdown",
   "id": "32a49b7f-781b-48b7-b78e-9fb8767f32db",
   "metadata": {},
   "source": [
    "**(3) Exploratory Data Analysis and Visualization**\n",
    "\n",
    "In this assignment, you will:\n",
    "\n",
    "Demonstrate that the dataset can be loaded into R.\n",
    "Do the minimum necessary wrangling to turn your data into a tidy format. Do not do any additional wrangling here; that will happen later during the group project phase.\n",
    "Compute the mean value for each quantitative variable in the players.csv data set. Report the mean values in a table format.\n",
    "Make a few exploratory visualizations of the data to help you understand it.\n",
    "Use our visualization best practices to make high-quality plots (make sure to include labels, titles, units of measurement, etc)\n",
    "Explain any insights you gain from these plots that are relevant to address your question\n",
    "Note: do not perform any predictive analysis here. We are asking for an exploration of the relevant variables to demonstrate that you understand them well before performing any additional modelling, and to identify potential problems you anticipate encountering."
   ]
  },
  {
   "cell_type": "code",
   "execution_count": 12,
   "id": "93a44936-3ef4-4751-bc50-45f68bf66224",
   "metadata": {},
   "outputs": [],
   "source": [
    "library(tidyverse)"
   ]
  },
  {
   "cell_type": "markdown",
   "id": "7e2d084d-0e19-4791-975b-11f63518b952",
   "metadata": {},
   "source": [
    "Now that we have loaded the tidyverse package (and all our functions), we can use read_csv to load the players data (the sessions data is not relevant to our question). Because this notebook and the data are both in the \"project\" folder, the filepath just contains the file name."
   ]
  },
  {
   "cell_type": "code",
   "execution_count": 13,
   "id": "f0568444-187d-491f-9925-d3ce24e7fc76",
   "metadata": {},
   "outputs": [
    {
     "name": "stderr",
     "output_type": "stream",
     "text": [
      "\u001b[1mRows: \u001b[22m\u001b[34m196\u001b[39m \u001b[1mColumns: \u001b[22m\u001b[34m7\u001b[39m\n",
      "\u001b[36m──\u001b[39m \u001b[1mColumn specification\u001b[22m \u001b[36m────────────────────────────────────────────────────────\u001b[39m\n",
      "\u001b[1mDelimiter:\u001b[22m \",\"\n",
      "\u001b[31mchr\u001b[39m (4): experience, hashedEmail, name, gender\n",
      "\u001b[32mdbl\u001b[39m (2): played_hours, Age\n",
      "\u001b[33mlgl\u001b[39m (1): subscribe\n",
      "\n",
      "\u001b[36mℹ\u001b[39m Use `spec()` to retrieve the full column specification for this data.\n",
      "\u001b[36mℹ\u001b[39m Specify the column types or set `show_col_types = FALSE` to quiet this message.\n"
     ]
    }
   ],
   "source": [
    "players_data <- read_csv(\"players.csv\")"
   ]
  },
  {
   "cell_type": "markdown",
   "id": "cf231af9-f776-4128-ba98-4fc8195940b5",
   "metadata": {},
   "source": [
    "To tidy this data we will do 2 things.\n",
    "\n",
    "1. Convert all column names to lowercase\n",
    "3. Convert data types. ex. from < chr > to < fct >\n",
    "\n",
    "The data is already in pivot longer format so that is not an issue."
   ]
  },
  {
   "cell_type": "code",
   "execution_count": 43,
   "id": "9f2c589f-22c7-4cfd-8899-5233b82f0e3b",
   "metadata": {},
   "outputs": [],
   "source": [
    "players_tidy <- players_data|>\n",
    "    rename_with(tolower)|>\n",
    "    mutate(experience = factor(experience))"
   ]
  },
  {
   "cell_type": "markdown",
   "id": "e017e623-bc51-42c4-96d9-c859dd5031c2",
   "metadata": {},
   "source": [
    "Now that we have tidy data, we can compute the mean for each numerical column."
   ]
  },
  {
   "cell_type": "code",
   "execution_count": 41,
   "id": "97c04e5d-e47e-445e-b51c-8a5e5bbaac2f",
   "metadata": {},
   "outputs": [
    {
     "data": {
      "text/html": [
       "<table class=\"dataframe\">\n",
       "<caption>A tibble: 1 × 2</caption>\n",
       "<thead>\n",
       "\t<tr><th scope=col>played_hours</th><th scope=col>age</th></tr>\n",
       "\t<tr><th scope=col>&lt;dbl&gt;</th><th scope=col>&lt;dbl&gt;</th></tr>\n",
       "</thead>\n",
       "<tbody>\n",
       "\t<tr><td>5.845918</td><td>20.52062</td></tr>\n",
       "</tbody>\n",
       "</table>\n"
      ],
      "text/latex": [
       "A tibble: 1 × 2\n",
       "\\begin{tabular}{ll}\n",
       " played\\_hours & age\\\\\n",
       " <dbl> & <dbl>\\\\\n",
       "\\hline\n",
       "\t 5.845918 & 20.52062\\\\\n",
       "\\end{tabular}\n"
      ],
      "text/markdown": [
       "\n",
       "A tibble: 1 × 2\n",
       "\n",
       "| played_hours &lt;dbl&gt; | age &lt;dbl&gt; |\n",
       "|---|---|\n",
       "| 5.845918 | 20.52062 |\n",
       "\n"
      ],
      "text/plain": [
       "  played_hours age     \n",
       "1 5.845918     20.52062"
      ]
     },
     "metadata": {},
     "output_type": "display_data"
    }
   ],
   "source": [
    "players_tidy |>\n",
    "    summarize(across(c(played_hours, age), mean, na.rm = TRUE))"
   ]
  },
  {
   "cell_type": "markdown",
   "id": "e7eee8be-d737-4c18-af08-1f6381e2236e",
   "metadata": {},
   "source": [
    "4) Methods and Plan\n",
    "Propose one method to address your question of interest using the selected dataset and explain why it was chosen. Do not perform any modelling or present results at this stage. We are looking for high-level planning regarding model choice and justifying that choice.\n",
    "\n",
    "In your explanation, respond to the following questions:\n",
    "\n",
    "Why is this method appropriate?\n",
    "Which assumptions are required, if any, to apply the method selected?\n",
    "What are the potential limitations or weaknesses of the method selected?\n",
    "How are you going to compare and select the model?\n",
    "How are you going to process the data to apply the model? For example: Are you splitting the data? How? How many splits? What proportions will you use for the splits? At what stage will you split? Will there be a validation set? Will you use cross validation?"
   ]
  },
  {
   "cell_type": "code",
   "execution_count": null,
   "id": "6f9d4a14-f2f2-4b80-9724-93d8711d11fa",
   "metadata": {},
   "outputs": [],
   "source": []
  }
 ],
 "metadata": {
  "kernelspec": {
   "display_name": "R",
   "language": "R",
   "name": "ir"
  },
  "language_info": {
   "codemirror_mode": "r",
   "file_extension": ".r",
   "mimetype": "text/x-r-source",
   "name": "R",
   "pygments_lexer": "r",
   "version": "4.3.3"
  }
 },
 "nbformat": 4,
 "nbformat_minor": 5
}
